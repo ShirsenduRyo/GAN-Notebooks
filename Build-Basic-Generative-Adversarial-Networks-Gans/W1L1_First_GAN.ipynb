{
 "cells": [
  {
   "cell_type": "markdown",
   "id": "e0b7fa20",
   "metadata": {},
   "source": [
    "# 1. Set Up"
   ]
  },
  {
   "cell_type": "code",
   "execution_count": 1,
   "id": "66891ce5",
   "metadata": {},
   "outputs": [],
   "source": [
    "import torch\n",
    "from torch import nn\n",
    "from torch.utils.data import DataLoader\n",
    "\n",
    "from torchvision import transforms\n",
    "from torchvision.datasets import MNIST # Training dataset\n",
    "from torchvision.utils import make_grid"
   ]
  },
  {
   "cell_type": "code",
   "execution_count": 2,
   "id": "66a48815",
   "metadata": {},
   "outputs": [],
   "source": [
    "import matplotlib.pyplot as plt"
   ]
  },
  {
   "cell_type": "code",
   "execution_count": 3,
   "id": "be44ae9c",
   "metadata": {},
   "outputs": [],
   "source": [
    "from tqdm.auto import tqdm"
   ]
  },
  {
   "cell_type": "markdown",
   "id": "02232d75",
   "metadata": {},
   "source": [
    "## 1.1 Torch Check"
   ]
  },
  {
   "cell_type": "code",
   "execution_count": 4,
   "id": "aaaefc02",
   "metadata": {},
   "outputs": [
    {
     "data": {
      "text/plain": [
       "'2.0.1'"
      ]
     },
     "execution_count": 4,
     "metadata": {},
     "output_type": "execute_result"
    }
   ],
   "source": [
    "torch.__version__"
   ]
  },
  {
   "cell_type": "code",
   "execution_count": 5,
   "id": "09b7ea4b",
   "metadata": {},
   "outputs": [
    {
     "data": {
      "text/plain": [
       "True"
      ]
     },
     "execution_count": 5,
     "metadata": {},
     "output_type": "execute_result"
    }
   ],
   "source": [
    "torch.cuda.is_available()"
   ]
  },
  {
   "cell_type": "markdown",
   "id": "d365ef45",
   "metadata": {},
   "source": [
    "## 1.2 Setting The Environment"
   ]
  },
  {
   "cell_type": "code",
   "execution_count": 6,
   "id": "da6825fa",
   "metadata": {},
   "outputs": [
    {
     "data": {
      "text/plain": [
       "<torch._C.Generator at 0x1c857f4fb90>"
      ]
     },
     "execution_count": 6,
     "metadata": {},
     "output_type": "execute_result"
    }
   ],
   "source": [
    "torch.manual_seed(42)"
   ]
  },
  {
   "cell_type": "markdown",
   "id": "8a7b9a5d",
   "metadata": {},
   "source": [
    "# 2. Utility Functions"
   ]
  },
  {
   "cell_type": "code",
   "execution_count": 7,
   "id": "06a5eb72",
   "metadata": {},
   "outputs": [],
   "source": [
    "def get_generator_block(input_dim, output_dim):\n",
    "    g_block = nn.Sequential(\n",
    "        nn.Linear(input_dim, output_dim),\n",
    "        nn.BatchNorm1d(output_dim),\n",
    "        nn.ReLU(inplace=True)\n",
    "    )\n",
    "    return g_block"
   ]
  },
  {
   "cell_type": "code",
   "execution_count": 8,
   "id": "1ea05918",
   "metadata": {},
   "outputs": [
    {
     "name": "stdout",
     "output_type": "stream",
     "text": [
      "tensor(0.5600, grad_fn=<StdBackward0>)\n",
      "tensor(0.6033, grad_fn=<StdBackward0>)\n",
      "Success!\n"
     ]
    }
   ],
   "source": [
    "# Unit Test Forgenerator Block\n",
    "def test_gen_block(in_features, out_features, num_test=10):\n",
    "    block = get_generator_block(in_features, out_features)\n",
    "\n",
    "    # Check the three parts\n",
    "    assert len(block) == 3\n",
    "    assert type(block[0]) == nn.Linear\n",
    "    assert type(block[1]) == nn.BatchNorm1d\n",
    "    assert type(block[2]) == nn.ReLU\n",
    "    \n",
    "    # Check the output shape\n",
    "    test_input = torch.randn(num_test, in_features)\n",
    "    test_output = block(test_input)\n",
    "    print(test_output.std())\n",
    "    assert tuple(test_output.shape) == (num_test, out_features)\n",
    "    assert test_output.std() > 0.55\n",
    "    assert test_output.std() < 0.65\n",
    "\n",
    "test_gen_block(25, 12)\n",
    "test_gen_block(15, 28)\n",
    "print(\"Success!\")"
   ]
  },
  {
   "cell_type": "markdown",
   "id": "e0b44466",
   "metadata": {},
   "source": [
    "## 2.2 Noise"
   ]
  },
  {
   "cell_type": "code",
   "execution_count": 9,
   "id": "69098510",
   "metadata": {},
   "outputs": [],
   "source": [
    "def get_noise(n_samples, z_dim, device ='cuda'):\n",
    "    \"\"\"\n",
    "    n_samples : no. of samples to generate\n",
    "    z_dim : Dimension of the noise vector\n",
    "    device : cpuu or cuda, where to generate\n",
    "    \"\"\"\n",
    "    \n",
    "    return torch.randn(n_samples, z_dim).to(device)"
   ]
  },
  {
   "cell_type": "code",
   "execution_count": 10,
   "id": "e880e437",
   "metadata": {},
   "outputs": [
    {
     "name": "stdout",
     "output_type": "stream",
     "text": [
      "Success!\n"
     ]
    }
   ],
   "source": [
    "# Verify the noise vector function\n",
    "def test_get_noise(n_samples, z_dim, device='cpu'):\n",
    "    noise = get_noise(n_samples, z_dim, device)\n",
    "    \n",
    "#     print(noise)\n",
    "#     print(noise.std())\n",
    "#     print(torch.abs(noise.std() - torch.tensor(1.0)))\n",
    "    # Make sure a normal distribution was used\n",
    "    assert tuple(noise.shape) == (n_samples, z_dim)\n",
    "    assert torch.abs(noise.std() - torch.tensor(1.0)) < 0.01\n",
    "    assert str(noise.device).startswith(device)\n",
    "\n",
    "test_get_noise(1000, 100, 'cpu')\n",
    "if torch.cuda.is_available():\n",
    "    test_get_noise(1000, 32, 'cuda')\n",
    "print(\"Success!\")"
   ]
  },
  {
   "cell_type": "markdown",
   "id": "714f39bb",
   "metadata": {},
   "source": [
    "## 2.3 Discriminator"
   ]
  },
  {
   "cell_type": "code",
   "execution_count": 15,
   "id": "45f5f524",
   "metadata": {},
   "outputs": [],
   "source": [
    "def get_discriminator_block(input_dim, output_dim):\n",
    "    block = nn.Sequential(\n",
    "        nn.Linear(input_dim, output_dim),\n",
    "        nn.LeakyReLU(0.2, inplace=True)\n",
    "    )\n",
    "    return block"
   ]
  },
  {
   "cell_type": "code",
   "execution_count": 16,
   "id": "955bec23",
   "metadata": {},
   "outputs": [
    {
     "name": "stdout",
     "output_type": "stream",
     "text": [
      "Success!\n"
     ]
    }
   ],
   "source": [
    "# Verify the discriminator block function\n",
    "def test_disc_block(in_features, out_features, num_test=10000):\n",
    "    block = get_discriminator_block(in_features, out_features)\n",
    "\n",
    "    # Check there are two parts\n",
    "    assert len(block) == 2\n",
    "    test_input = torch.randn(num_test, in_features)\n",
    "    test_output = block(test_input)\n",
    "\n",
    "    # Check that the shape is right\n",
    "    assert tuple(test_output.shape) == (num_test, out_features)\n",
    "    \n",
    "    # Check that the LeakyReLU slope is about 0.2\n",
    "    assert -test_output.min() / test_output.max() > 0.1\n",
    "    assert -test_output.min() / test_output.max() < 0.3\n",
    "    assert test_output.std() > 0.3\n",
    "    assert test_output.std() < 0.5\n",
    "\n",
    "test_disc_block(25, 12)\n",
    "test_disc_block(15, 28)\n",
    "print(\"Success!\")"
   ]
  },
  {
   "cell_type": "markdown",
   "id": "91566ee7",
   "metadata": {},
   "source": [
    "# 3. Utility Functions"
   ]
  },
  {
   "cell_type": "code",
   "execution_count": 11,
   "id": "16aff7b4",
   "metadata": {},
   "outputs": [],
   "source": [
    "class Generator(nn.Module):\n",
    "    def __init__(self, z_dim=10, im_dim=784, hidden_dim=128):\n",
    "        \"\"\"\n",
    "        z_dim = dimension of the noise vector\n",
    "        im_dim = dimnsion of the image(For MNIST 28*28 = 784)\n",
    "        hidden_dim = No. of Units in the One Hidden Layer\n",
    "        \"\"\"\n",
    "        super(Generator, self).__init__()\n",
    "        \n",
    "        #Build The Neural Network\n",
    "        self.gen = nn.Sequential(\n",
    "            #Generator Painting an Image\n",
    "            get_generator_block(z_dim, hidden_dim),\n",
    "            get_generator_block(hidden_dim, hidden_dim * 2),\n",
    "            get_generator_block(hidden_dim * 2, hidden_dim * 4),\n",
    "            get_generator_block(hidden_dim * 4, hidden_dim * 8),\n",
    "            #Making that Image into The Actual Image Dimensions\n",
    "            nn.Linear(hidden_dim * 8, im_dim),\n",
    "            nn.Sigmoid()\n",
    "        )\n",
    "        \n",
    "    def forward(self, noise):\n",
    "        \"\"\"\n",
    "        Function for completing a forward pass of the generator: Given a noise tensor, \n",
    "        returns generated images.\n",
    "        \"\"\"\n",
    "        return self.gen(noise)\n",
    "    \n",
    "    def get_gen(self):\n",
    "        \"\"\"\n",
    "        Return The Model\n",
    "        \"\"\"\n",
    "        return self.gen"
   ]
  },
  {
   "cell_type": "code",
   "execution_count": 12,
   "id": "4d60fb35",
   "metadata": {},
   "outputs": [],
   "source": [
    "x = Generator(5, 10, 20)"
   ]
  },
  {
   "cell_type": "code",
   "execution_count": 13,
   "id": "ff4e8ee2",
   "metadata": {},
   "outputs": [
    {
     "data": {
      "text/plain": [
       "Sequential(\n",
       "  (0): Sequential(\n",
       "    (0): Linear(in_features=5, out_features=20, bias=True)\n",
       "    (1): BatchNorm1d(20, eps=1e-05, momentum=0.1, affine=True, track_running_stats=True)\n",
       "    (2): ReLU(inplace=True)\n",
       "  )\n",
       "  (1): Sequential(\n",
       "    (0): Linear(in_features=20, out_features=40, bias=True)\n",
       "    (1): BatchNorm1d(40, eps=1e-05, momentum=0.1, affine=True, track_running_stats=True)\n",
       "    (2): ReLU(inplace=True)\n",
       "  )\n",
       "  (2): Sequential(\n",
       "    (0): Linear(in_features=40, out_features=80, bias=True)\n",
       "    (1): BatchNorm1d(80, eps=1e-05, momentum=0.1, affine=True, track_running_stats=True)\n",
       "    (2): ReLU(inplace=True)\n",
       "  )\n",
       "  (3): Sequential(\n",
       "    (0): Linear(in_features=80, out_features=160, bias=True)\n",
       "    (1): BatchNorm1d(160, eps=1e-05, momentum=0.1, affine=True, track_running_stats=True)\n",
       "    (2): ReLU(inplace=True)\n",
       "  )\n",
       "  (4): Linear(in_features=160, out_features=10, bias=True)\n",
       "  (5): Sigmoid()\n",
       ")"
      ]
     },
     "execution_count": 13,
     "metadata": {},
     "output_type": "execute_result"
    }
   ],
   "source": [
    "x.get_gen()"
   ]
  },
  {
   "cell_type": "code",
   "execution_count": 21,
   "id": "4808bc86",
   "metadata": {},
   "outputs": [],
   "source": [
    "class Discriminator(nn.Module):\n",
    "    def __init__(self, im_dim=784, hidden_dim=128):\n",
    "        super(Discriminator, self).__init__()\n",
    "        self.disc = nn.Sequential(\n",
    "            get_discriminator_block(im_dim, hidden_dim * 4),\n",
    "            get_discriminator_block(hidden_dim * 4, hidden_dim * 2),\n",
    "            get_discriminator_block(hidden_dim *2, hidden_dim),\n",
    "            #Transform the final output into a single value\n",
    "            nn.Linear(hidden_dim, 1)\n",
    "        )\n",
    "    def forward(self, image):\n",
    "        return self.disc(image)\n",
    "    \n",
    "    def get_disc(self):\n",
    "        return self.disc"
   ]
  },
  {
   "cell_type": "code",
   "execution_count": 22,
   "id": "b33cbf0c",
   "metadata": {},
   "outputs": [],
   "source": [
    "y = Discriminator(5, 10)\n"
   ]
  },
  {
   "cell_type": "code",
   "execution_count": 23,
   "id": "43e6a15d",
   "metadata": {},
   "outputs": [
    {
     "data": {
      "text/plain": [
       "Sequential(\n",
       "  (0): Sequential(\n",
       "    (0): Linear(in_features=5, out_features=40, bias=True)\n",
       "    (1): LeakyReLU(negative_slope=0.2, inplace=True)\n",
       "  )\n",
       "  (1): Sequential(\n",
       "    (0): Linear(in_features=40, out_features=20, bias=True)\n",
       "    (1): LeakyReLU(negative_slope=0.2, inplace=True)\n",
       "  )\n",
       "  (2): Sequential(\n",
       "    (0): Linear(in_features=20, out_features=10, bias=True)\n",
       "    (1): LeakyReLU(negative_slope=0.2, inplace=True)\n",
       "  )\n",
       "  (3): Linear(in_features=10, out_features=1, bias=True)\n",
       ")"
      ]
     },
     "execution_count": 23,
     "metadata": {},
     "output_type": "execute_result"
    }
   ],
   "source": [
    "y.get_disc()"
   ]
  },
  {
   "cell_type": "code",
   "execution_count": null,
   "id": "717d2ed7",
   "metadata": {},
   "outputs": [],
   "source": []
  }
 ],
 "metadata": {
  "kernelspec": {
   "display_name": "torch",
   "language": "python",
   "name": "pytorch"
  },
  "language_info": {
   "codemirror_mode": {
    "name": "ipython",
    "version": 3
   },
   "file_extension": ".py",
   "mimetype": "text/x-python",
   "name": "python",
   "nbconvert_exporter": "python",
   "pygments_lexer": "ipython3",
   "version": "3.11.3"
  }
 },
 "nbformat": 4,
 "nbformat_minor": 5
}
